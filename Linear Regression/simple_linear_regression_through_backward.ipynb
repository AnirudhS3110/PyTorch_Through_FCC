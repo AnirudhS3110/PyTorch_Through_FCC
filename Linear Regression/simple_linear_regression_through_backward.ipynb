{
  "cells": [
    {
      "cell_type": "code",
      "execution_count": 16,
      "metadata": {
        "id": "mAgY5Nn9Zvd2"
      },
      "outputs": [],
      "source": [
        "import torch as tr\n",
        "import numpy as np"
      ]
    },
    {
      "cell_type": "code",
      "execution_count": 17,
      "metadata": {
        "id": "inQIx3hQZ6K0"
      },
      "outputs": [],
      "source": [
        "input = tr.from_numpy(np.array([[73,67,43],[91,88,64],[87,134,58],[102,43,37],[69,96,70]], dtype=\"float32\"))\n",
        "target = tr.from_numpy(np.array([[56,70],[81,101],[119,133],[22,37],[103,119]] , dtype=\"float32\"))"
      ]
    },
    {
      "cell_type": "code",
      "execution_count": 18,
      "metadata": {
        "id": "ZlimSjjhaUIo"
      },
      "outputs": [],
      "source": [
        "def mse(predictions,target):\n",
        "  diff = predictions-target\n",
        "  return tr.sum(diff*diff)/diff.numel()"
      ]
    },
    {
      "cell_type": "code",
      "execution_count": 19,
      "metadata": {
        "id": "iEIxfRHAapVb"
      },
      "outputs": [],
      "source": [
        "w = tr.randn(2,3, requires_grad = True)\n",
        "b = tr.randn(2, requires_grad = True)"
      ]
    },
    {
      "cell_type": "code",
      "execution_count": 20,
      "metadata": {
        "id": "sIwY3NBbc25M"
      },
      "outputs": [],
      "source": [
        "def model(x):\n",
        "  return x@w.t() + b"
      ]
    },
    {
      "cell_type": "code",
      "execution_count": 21,
      "metadata": {
        "colab": {
          "base_uri": "https://localhost:8080/"
        },
        "id": "uOGsFKjQdF7U",
        "outputId": "75466fe5-4827-4d7b-98e2-96fc6e38349f"
      },
      "outputs": [
        {
          "output_type": "stream",
          "name": "stdout",
          "text": [
            "tensor([[-162.1382, -163.7008],\n",
            "        [-222.0579, -216.5840],\n",
            "        [-198.9465, -231.2173],\n",
            "        [-187.7907, -177.3568],\n",
            "        [-206.9117, -202.0907]], grad_fn=<AddBackward0>)\n"
          ]
        }
      ],
      "source": [
        "initial_prediction = model(input)\n",
        "print(initial_prediction)"
      ]
    },
    {
      "cell_type": "code",
      "source": [
        "initial_mse_error = mse(initial_prediction,target)\n",
        "print(\"Initial MSE error:\", initial_mse_error)"
      ],
      "metadata": {
        "colab": {
          "base_uri": "https://localhost:8080/"
        },
        "id": "rQkcLiifl-On",
        "outputId": "2d7242da-57ea-401a-bdcc-f0689736a773"
      },
      "execution_count": 22,
      "outputs": [
        {
          "output_type": "stream",
          "name": "stdout",
          "text": [
            "Initial MSE error: tensor(81775.3672, grad_fn=<DivBackward0>)\n"
          ]
        }
      ]
    },
    {
      "cell_type": "code",
      "source": [
        "initial_mse_error.backward()"
      ],
      "metadata": {
        "id": "2vMJSZdkmAiM"
      },
      "execution_count": 23,
      "outputs": []
    },
    {
      "cell_type": "code",
      "source": [
        "print(\"Weight GRaident: \", w.grad)"
      ],
      "metadata": {
        "colab": {
          "base_uri": "https://localhost:8080/"
        },
        "id": "SsKU0dM_mFLy",
        "outputId": "99830079-fd95-43b3-f399-09f35e2c38bc"
      },
      "execution_count": 25,
      "outputs": [
        {
          "output_type": "stream",
          "name": "stdout",
          "text": [
            "Weight GRaident:  tensor([[-22789.2539, -24532.3418, -15334.5254],\n",
            "        [-24333.3711, -26490.5039, -16381.3340]])\n"
          ]
        }
      ]
    },
    {
      "cell_type": "code",
      "source": [
        "with tr.no_grad():\n",
        "  w-=w.grad*1e-5\n",
        "  b-=b.grad*1e-5\n",
        "  w.grad.zero_()\n",
        "  b.grad.zero_()"
      ],
      "metadata": {
        "id": "_UPQODcQmo5V"
      },
      "execution_count": 26,
      "outputs": []
    },
    {
      "cell_type": "code",
      "source": [
        "print(mse(model(input),target))"
      ],
      "metadata": {
        "colab": {
          "base_uri": "https://localhost:8080/"
        },
        "id": "DO-mp2k_m1zD",
        "outputId": "c91bd645-aae9-44d6-d73a-3c7bc43900b3"
      },
      "execution_count": 28,
      "outputs": [
        {
          "output_type": "stream",
          "name": "stdout",
          "text": [
            "tensor(55201.9141, grad_fn=<DivBackward0>)\n"
          ]
        }
      ]
    },
    {
      "cell_type": "code",
      "source": [
        "for i in range(5000):\n",
        "  prediction = model(input)\n",
        "  loss = mse(prediction,target)\n",
        "  loss.backward()\n",
        "  with tr.no_grad():\n",
        "    w-=w.grad*1e-5\n",
        "    b-=b.grad*1e-5\n",
        "    w.grad.zero_()\n",
        "    b.grad.zero_()"
      ],
      "metadata": {
        "id": "rUmxbkZXnCLG"
      },
      "execution_count": 47,
      "outputs": []
    },
    {
      "cell_type": "code",
      "source": [
        "print(mse(model(input),target))"
      ],
      "metadata": {
        "colab": {
          "base_uri": "https://localhost:8080/"
        },
        "id": "OXeHb-ernP02",
        "outputId": "7f027fc2-a38c-45ef-b668-f37c7a8dacc8"
      },
      "execution_count": 48,
      "outputs": [
        {
          "output_type": "stream",
          "name": "stdout",
          "text": [
            "tensor(0.4941, grad_fn=<DivBackward0>)\n"
          ]
        }
      ]
    },
    {
      "cell_type": "code",
      "source": [
        "print(\"Prediction of training teh model:\", model(input))"
      ],
      "metadata": {
        "colab": {
          "base_uri": "https://localhost:8080/"
        },
        "id": "n824nCd1npf5",
        "outputId": "1c425b5d-ff90-48c9-f78c-eda731ced699"
      },
      "execution_count": 49,
      "outputs": [
        {
          "output_type": "stream",
          "name": "stdout",
          "text": [
            "Prediction of training teh model: tensor([[ 57.1278,  70.0758],\n",
            "        [ 82.2303, 100.8164],\n",
            "        [118.6992, 132.9965],\n",
            "        [ 21.0860,  37.0445],\n",
            "        [101.9145, 119.1005]], grad_fn=<AddBackward0>)\n"
          ]
        }
      ]
    },
    {
      "cell_type": "code",
      "source": [
        "print(\"Target:\",target)"
      ],
      "metadata": {
        "colab": {
          "base_uri": "https://localhost:8080/"
        },
        "id": "ks3YW1Avn1K9",
        "outputId": "7a0ee83c-42a1-45b5-85ab-7ba281d39688"
      },
      "execution_count": 50,
      "outputs": [
        {
          "output_type": "stream",
          "name": "stdout",
          "text": [
            "Target: tensor([[ 56.,  70.],\n",
            "        [ 81., 101.],\n",
            "        [119., 133.],\n",
            "        [ 22.,  37.],\n",
            "        [103., 119.]])\n"
          ]
        }
      ]
    },
    {
      "cell_type": "code",
      "source": [
        "print(\"Error: \", mse(model(input),target))"
      ],
      "metadata": {
        "colab": {
          "base_uri": "https://localhost:8080/"
        },
        "id": "Z4z9ll70oISR",
        "outputId": "e0a81b0e-d604-4d2f-affd-4642b0b026f9"
      },
      "execution_count": 52,
      "outputs": [
        {
          "output_type": "stream",
          "name": "stdout",
          "text": [
            "Error:  tensor(0.4941, grad_fn=<DivBackward0>)\n"
          ]
        }
      ]
    }
  ],
  "metadata": {
    "colab": {
      "provenance": []
    },
    "kernelspec": {
      "display_name": "Python 3",
      "name": "python3"
    },
    "language_info": {
      "name": "python"
    }
  },
  "nbformat": 4,
  "nbformat_minor": 0
}