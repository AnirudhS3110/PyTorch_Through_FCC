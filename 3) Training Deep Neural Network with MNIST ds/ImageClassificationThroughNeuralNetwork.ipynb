{
  "nbformat": 4,
  "nbformat_minor": 0,
  "metadata": {
    "colab": {
      "provenance": []
    },
    "kernelspec": {
      "name": "python3",
      "display_name": "Python 3"
    },
    "language_info": {
      "name": "python"
    }
  },
  "cells": [
    {
      "cell_type": "code",
      "source": [
        "import torch\n",
        "import torchvision\n",
        "from torchvision.datasets import MNIST\n",
        "import torch.utils.data.dataloader as DataLoader\n"
      ],
      "metadata": {
        "id": "tpY_MMYp0cmi"
      },
      "execution_count": 1,
      "outputs": []
    },
    {
      "cell_type": "code",
      "source": [
        "import numpy as np\n",
        "from torch.utils.data.sampler import SubsetRandomSampler"
      ],
      "metadata": {
        "id": "t-pZgg5i0qAI"
      },
      "execution_count": 3,
      "outputs": []
    },
    {
      "cell_type": "code",
      "source": [
        "import torchvision.transforms as transforms"
      ],
      "metadata": {
        "id": "rxE1dgGe1buv"
      },
      "execution_count": 2,
      "outputs": []
    },
    {
      "cell_type": "code",
      "source": [
        "import numpy as np"
      ],
      "metadata": {
        "id": "U3d-nGog3PVy"
      },
      "execution_count": 4,
      "outputs": []
    },
    {
      "cell_type": "code",
      "source": [
        "ds = MNIST(root=\"data/\", train= True, transform=transforms.ToTensor(), download=True)"
      ],
      "metadata": {
        "colab": {
          "base_uri": "https://localhost:8080/"
        },
        "id": "jgvGf8bo1QpK",
        "outputId": "277820c3-c971-4640-9602-594d69972983"
      },
      "execution_count": 5,
      "outputs": [
        {
          "output_type": "stream",
          "name": "stderr",
          "text": [
            "100%|██████████| 9.91M/9.91M [00:01<00:00, 6.83MB/s]\n",
            "100%|██████████| 28.9k/28.9k [00:00<00:00, 160kB/s]\n",
            "100%|██████████| 1.65M/1.65M [00:01<00:00, 1.52MB/s]\n",
            "100%|██████████| 4.54k/4.54k [00:00<00:00, 10.1MB/s]\n"
          ]
        }
      ]
    },
    {
      "cell_type": "code",
      "source": [
        "test_ds =  MNIST(root=\"data/\" , train= False , download=True , transform=transforms.ToTensor())"
      ],
      "metadata": {
        "id": "WiqGnDm41lR2"
      },
      "execution_count": 6,
      "outputs": []
    },
    {
      "cell_type": "code",
      "source": [
        "def split_generator(num, percentage):\n",
        "  size = int(num*percentage)\n",
        "  indices = np.random.permutation(num)\n",
        "  return indices[size:], indices[:size]\n"
      ],
      "metadata": {
        "id": "0GC6CssC11x1"
      },
      "execution_count": 7,
      "outputs": []
    },
    {
      "cell_type": "code",
      "source": [
        "train_indices, validation_indices = split_generator(len(ds), 0.2)\n",
        "print(len(train_indices))"
      ],
      "metadata": {
        "colab": {
          "base_uri": "https://localhost:8080/"
        },
        "id": "OP3H893J2PEl",
        "outputId": "9d912870-3ec1-4334-c34a-aa70da97a097"
      },
      "execution_count": 8,
      "outputs": [
        {
          "output_type": "stream",
          "name": "stdout",
          "text": [
            "48000\n"
          ]
        }
      ]
    },
    {
      "cell_type": "code",
      "source": [
        "from torch.utils.data import DataLoader"
      ],
      "metadata": {
        "id": "MDNV-2sq4xRr"
      },
      "execution_count": 9,
      "outputs": []
    },
    {
      "cell_type": "code",
      "source": [
        "batch_size =100\n",
        "train_sampler = SubsetRandomSampler(train_indices)\n",
        "validation_sampler = SubsetRandomSampler(validation_indices)\n",
        "\n",
        "\n",
        "train_dl = DataLoader(ds, batch_size, sampler=train_sampler)\n",
        "validation_dl = DataLoader(ds, batch_size, sampler=validation_sampler)"
      ],
      "metadata": {
        "id": "p5gmBCBj2jn5"
      },
      "execution_count": 10,
      "outputs": []
    },
    {
      "cell_type": "code",
      "source": [
        "import torch.nn as nn"
      ],
      "metadata": {
        "id": "tIJnvFwT5Fw5"
      },
      "execution_count": 11,
      "outputs": []
    },
    {
      "cell_type": "code",
      "source": [
        "class MnistModel(nn.Module):\n",
        "  def __init__(self):\n",
        "    super().__init__()\n",
        "    self.linear1 = nn.Linear(784,128)\n",
        "    self.relu1 = nn.ReLU()\n",
        "    self.linear2 = nn.Linear(128,64)\n",
        "    self.relu2 = nn.ReLU()\n",
        "    self.linear3 = nn.Linear(64,10)\n",
        "\n",
        "  def forward(self,xb):\n",
        "    xb = xb.reshape(-1,784)\n",
        "    out1 = self.relu1(self.linear1(xb))\n",
        "    out2 = self.relu2(self.linear2(out1))\n",
        "    out3 = self.linear3(out2)\n",
        "    return out3\n",
        "\n",
        "model = MnistModel()"
      ],
      "metadata": {
        "id": "8HkuF3qS4EnS"
      },
      "execution_count": 12,
      "outputs": []
    },
    {
      "cell_type": "code",
      "source": [
        "def get_device():\n",
        "  if torch.cuda.is_available():\n",
        "    return torch.device('cuda')\n",
        "  else:\n",
        "    return torch.device('cpu')"
      ],
      "metadata": {
        "id": "dU93onjHeKeG"
      },
      "execution_count": 13,
      "outputs": []
    },
    {
      "cell_type": "code",
      "source": [
        "device = get_device()\n",
        "device"
      ],
      "metadata": {
        "colab": {
          "base_uri": "https://localhost:8080/"
        },
        "id": "PVcQk1sNeZ7x",
        "outputId": "9975c762-5de2-4092-8114-56afae6788c7"
      },
      "execution_count": 14,
      "outputs": [
        {
          "output_type": "execute_result",
          "data": {
            "text/plain": [
              "device(type='cpu')"
            ]
          },
          "metadata": {},
          "execution_count": 14
        }
      ]
    },
    {
      "cell_type": "code",
      "source": [
        "def device_to(data,device):\n",
        "  return data.to(device, non_blocking = True)"
      ],
      "metadata": {
        "id": "WXdd2Igse6Qb"
      },
      "execution_count": 15,
      "outputs": []
    },
    {
      "cell_type": "markdown",
      "source": [
        "- Now we are going to code a function called DataLoader which sends data to the selected device as the batches are accessed\n",
        "- We cant send all the datas intot the GPU in one Goo, therefore we should send datas in batches when needed!"
      ],
      "metadata": {
        "id": "oeGrcTAtf8Ee"
      }
    },
    {
      "cell_type": "code",
      "source": [
        "class DataLoader():\n",
        "  \"\"\"\n",
        "  A custom DataLoader that moves batches of data to the specified device.\n",
        "  \"\"\"\n",
        "  def __init__(self,dl,device):\n",
        "    self.dl = dl\n",
        "    self.device = device\n",
        "\n",
        "  def __iter__(self):\n",
        "    for b in self.dl:\n",
        "      yield device_to(b,self.device)\n",
        "\n",
        "  def __len__(self):\n",
        "    return len(self.dl)"
      ],
      "metadata": {
        "id": "Hww_lm_7fEzt"
      },
      "execution_count": 16,
      "outputs": []
    },
    {
      "cell_type": "code",
      "source": [
        "def accuracy(preds,labels):\n",
        "  _,x = torch.max(preds,dim=1)\n",
        "  return torch.tensor(torch.sum(x==labels).item()/len(preds))"
      ],
      "metadata": {
        "id": "w0r_WsY9QGF-"
      },
      "execution_count": 17,
      "outputs": []
    },
    {
      "cell_type": "code",
      "source": [
        "for xb,yb in train_dl:\n",
        "  preds=model(xb)\n",
        "  print(accuracy(preds,yb))\n",
        "  break\n",
        ""
      ],
      "metadata": {
        "colab": {
          "base_uri": "https://localhost:8080/"
        },
        "id": "3JP9qx2j5p8i",
        "outputId": "2c849d05-baa9-45f6-9241-7b83b3e55061"
      },
      "execution_count": 22,
      "outputs": [
        {
          "output_type": "stream",
          "name": "stdout",
          "text": [
            "tensor(0.1800)\n"
          ]
        }
      ]
    },
    {
      "cell_type": "code",
      "source": [
        "def loss_batch(model,loss_fn,xb,yb,optimizer=None,metric=None):\n",
        "  preds =  model(xb)\n",
        "  loss = loss_fn(preds,yb)\n",
        "  if optimizer is not None:\n",
        "    loss.backward()\n",
        "    optimizer.step()\n",
        "    optimizer.zero_grad()\n",
        "  else:\n",
        "    with torch.no_grad():\n",
        "      loss = loss_fn(preds,yb)\n",
        "  metric_val=None\n",
        "  if metric is not None:\n",
        "    metric_val = metric(preds,yb)\n",
        "  return loss.item(),len(xb),metric_val"
      ],
      "metadata": {
        "id": "zYS79zj3Qj_j"
      },
      "execution_count": 23,
      "outputs": []
    },
    {
      "cell_type": "code",
      "source": [
        "def evaluate(model,loss_fn,valid_dl,optim=None,metric=None):\n",
        "    result = [loss_batch(model,loss_fn,xb,yb,optim,metric) for xb,yb in valid_dl]\n",
        "    losses,nums,metrics = zip(*result)\n",
        "    total_size = np.sum(nums)\n",
        "\n",
        "    avg_loss = np.sum(np.multiply(losses,nums))/total_size\n",
        "\n",
        "    if metric is not None:\n",
        "      avg_metrics = np.mean(np.multiply(metrics,nums))\n",
        "    else:\n",
        "      avg_metrics = None\n",
        "    return avg_loss,total_size,avg_metrics"
      ],
      "metadata": {
        "id": "2QPz6M1gS_aK"
      },
      "execution_count": 24,
      "outputs": []
    },
    {
      "cell_type": "code",
      "source": [
        "import torch.nn.functional as F"
      ],
      "metadata": {
        "id": "esk5WViWUjw8"
      },
      "execution_count": 25,
      "outputs": []
    },
    {
      "cell_type": "code",
      "source": [
        "loss_fn = F.cross_entropy"
      ],
      "metadata": {
        "id": "LqdXIzpMVOtm"
      },
      "execution_count": 26,
      "outputs": []
    },
    {
      "cell_type": "code",
      "source": [
        "optimizer =  torch.optim.SGD(model.parameters(),lr=0.5)"
      ],
      "metadata": {
        "id": "YDqftIfcVoCK"
      },
      "execution_count": 27,
      "outputs": []
    },
    {
      "cell_type": "code",
      "source": [
        "def fit(epochs,model,loss_fn,train_dl,valid_dl,optim=None,metric=None):\n",
        "  losses, metrics = [] , []\n",
        "  for epoch in range(epochs):\n",
        "    for xb,yb in train_dl:\n",
        "      loss,_,_ = loss_batch(model,loss_fn,xb,yb,optim)\n",
        "    avg_loss,_,avg_metric = evaluate(model,loss_fn,valid_dl,optim,metric)\n",
        "    losses.append(avg_loss)\n",
        "    metrics.append(avg_metric)\n",
        "    print(\"Epoch {}/{}, Loss: {}, Accuracy Achieved: {}\".format(epoch+1,epochs,avg_loss,avg_metric))\n",
        "  return losses, metrics # Added return statement"
      ],
      "metadata": {
        "id": "YLjVeeUzWFNt"
      },
      "execution_count": 28,
      "outputs": []
    },
    {
      "cell_type": "code",
      "source": [
        "device_to(model,device)"
      ],
      "metadata": {
        "colab": {
          "base_uri": "https://localhost:8080/"
        },
        "id": "wT0kTjyEXObn",
        "outputId": "0b369a1d-c481-40e2-9cc8-c3e9db7128cf"
      },
      "execution_count": 29,
      "outputs": [
        {
          "output_type": "execute_result",
          "data": {
            "text/plain": [
              "MnistModel(\n",
              "  (linear1): Linear(in_features=784, out_features=128, bias=True)\n",
              "  (relu1): ReLU()\n",
              "  (linear2): Linear(in_features=128, out_features=64, bias=True)\n",
              "  (relu2): ReLU()\n",
              "  (linear3): Linear(in_features=64, out_features=10, bias=True)\n",
              ")"
            ]
          },
          "metadata": {},
          "execution_count": 29
        }
      ]
    },
    {
      "cell_type": "code",
      "source": [
        "fit(6,model,loss_fn,train_dl,validation_dl,optimizer,accuracy)"
      ],
      "metadata": {
        "colab": {
          "base_uri": "https://localhost:8080/"
        },
        "id": "PDZMZZHEXYXL",
        "outputId": "79e01261-31c4-49e7-ebee-fa2c1bbcab5d"
      },
      "execution_count": 30,
      "outputs": [
        {
          "output_type": "stream",
          "name": "stdout",
          "text": [
            "Epoch 1/6, Loss: 0.15554267127687732, Accuracy Achieved: 95.31666686137517\n",
            "Epoch 2/6, Loss: 0.09456867960592111, Accuracy Achieved: 96.86666756868362\n",
            "Epoch 3/6, Loss: 0.06826254486028725, Accuracy Achieved: 97.86666775743167\n",
            "Epoch 4/6, Loss: 0.05209641293234502, Accuracy Achieved: 98.19166774551074\n",
            "Epoch 5/6, Loss: 0.042344460531603546, Accuracy Achieved: 98.65000089009602\n",
            "Epoch 6/6, Loss: 0.031595993701193946, Accuracy Achieved: 99.00000085433324\n"
          ]
        },
        {
          "output_type": "execute_result",
          "data": {
            "text/plain": [
              "([np.float64(0.15554267127687732),\n",
              "  np.float64(0.09456867960592111),\n",
              "  np.float64(0.06826254486028725),\n",
              "  np.float64(0.05209641293234502),\n",
              "  np.float64(0.042344460531603546),\n",
              "  np.float64(0.031595993701193946)],\n",
              " [np.float64(95.31666686137517),\n",
              "  np.float64(96.86666756868362),\n",
              "  np.float64(97.86666775743167),\n",
              "  np.float64(98.19166774551074),\n",
              "  np.float64(98.65000089009602),\n",
              "  np.float64(99.00000085433324)])"
            ]
          },
          "metadata": {},
          "execution_count": 30
        }
      ]
    },
    {
      "cell_type": "code",
      "source": [],
      "metadata": {
        "id": "XHAiD9ulx-44"
      },
      "execution_count": null,
      "outputs": []
    }
  ]
}