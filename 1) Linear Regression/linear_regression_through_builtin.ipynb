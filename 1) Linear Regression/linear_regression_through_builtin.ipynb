{
  "nbformat": 4,
  "nbformat_minor": 0,
  "metadata": {
    "colab": {
      "provenance": []
    },
    "kernelspec": {
      "name": "python3",
      "display_name": "Python 3"
    },
    "language_info": {
      "name": "python"
    }
  },
  "cells": [
    {
      "cell_type": "code",
      "execution_count": 1,
      "metadata": {
        "id": "JcAx6t85tCpy"
      },
      "outputs": [],
      "source": [
        "import torch as tr\n",
        "import numpy as np"
      ]
    },
    {
      "cell_type": "code",
      "source": [
        "input = tr.from_numpy(np.array([[ 0.52, -1.37,  0.11],\n",
        "        [ 1.24,  0.89, -0.47],\n",
        "        [-0.91,  0.32,  0.75],\n",
        "        [ 0.04, -0.58, -0.12],\n",
        "        [ 0.67,  1.93, -0.34],\n",
        "        [-1.12, -0.45,  1.08],\n",
        "        [ 0.88,  0.05,  0.56],\n",
        "        [-0.63,  0.49, -0.87],\n",
        "        [ 1.01, -0.16,  0.92],\n",
        "        [ 0.39,  0.72, -0.65]], dtype=\"float32\"))\n",
        "target = tr.from_numpy(np.array([[ 0.15, -1.02],\n",
        "        [ 0.84,  0.31],\n",
        "        [-0.55,  0.69],\n",
        "        [ 1.21, -0.48],\n",
        "        [-0.17,  0.43],\n",
        "        [ 0.64, -1.13],\n",
        "        [ 0.29,  0.77],\n",
        "        [ 0.92, -0.35],\n",
        "        [-0.68,  1.11],\n",
        "        [ 0.56,  0.08]] , dtype=\"float32\"))"
      ],
      "metadata": {
        "id": "9rhWnvy7uK9h"
      },
      "execution_count": 2,
      "outputs": []
    },
    {
      "cell_type": "markdown",
      "source": [
        "## Dataset and DataLoader\n",
        "TensorDataset , this helps to allow accesss to rows in tensors as tuples\n",
        "\n",
        "DataLoader , this helps to split data into batches of predefined sizeswhile training."
      ],
      "metadata": {
        "id": "ldbn5aYWtn7T"
      }
    },
    {
      "cell_type": "code",
      "source": [
        "from torch.utils.data import TensorDataset\n",
        "\n",
        "train_ds = TensorDataset(input, target)\n",
        "train_ds[0:3]\n"
      ],
      "metadata": {
        "colab": {
          "base_uri": "https://localhost:8080/"
        },
        "id": "zPX-tOVLuODt",
        "outputId": "0b516bb1-be62-45f9-bd4d-0233da0abbb3"
      },
      "execution_count": 3,
      "outputs": [
        {
          "output_type": "execute_result",
          "data": {
            "text/plain": [
              "(tensor([[ 0.5200, -1.3700,  0.1100],\n",
              "         [ 1.2400,  0.8900, -0.4700],\n",
              "         [-0.9100,  0.3200,  0.7500]]),\n",
              " tensor([[ 0.1500, -1.0200],\n",
              "         [ 0.8400,  0.3100],\n",
              "         [-0.5500,  0.6900]]))"
            ]
          },
          "metadata": {},
          "execution_count": 3
        }
      ]
    },
    {
      "cell_type": "code",
      "source": [
        "from torch.utils.data import DataLoader\n",
        "\n",
        "batch_size = 2\n",
        "train_dl = DataLoader(train_ds, batch_size, shuffle=True)"
      ],
      "metadata": {
        "id": "X6sbp6TOurzD"
      },
      "execution_count": 4,
      "outputs": []
    },
    {
      "cell_type": "code",
      "source": [
        "for xb, yb in train_dl:\n",
        "  print(\"batche:\")\n",
        "  print(xb)\n",
        "  print(yb)\n"
      ],
      "metadata": {
        "colab": {
          "base_uri": "https://localhost:8080/"
        },
        "id": "amfC37kPu5cK",
        "outputId": "643775d9-aed1-4f52-99de-c01e6c12e166"
      },
      "execution_count": 5,
      "outputs": [
        {
          "output_type": "stream",
          "name": "stdout",
          "text": [
            "batche:\n",
            "tensor([[-0.6300,  0.4900, -0.8700],\n",
            "        [ 0.3900,  0.7200, -0.6500]])\n",
            "tensor([[ 0.9200, -0.3500],\n",
            "        [ 0.5600,  0.0800]])\n",
            "batche:\n",
            "tensor([[-0.9100,  0.3200,  0.7500],\n",
            "        [-1.1200, -0.4500,  1.0800]])\n",
            "tensor([[-0.5500,  0.6900],\n",
            "        [ 0.6400, -1.1300]])\n",
            "batche:\n",
            "tensor([[ 1.2400,  0.8900, -0.4700],\n",
            "        [ 0.0400, -0.5800, -0.1200]])\n",
            "tensor([[ 0.8400,  0.3100],\n",
            "        [ 1.2100, -0.4800]])\n",
            "batche:\n",
            "tensor([[ 1.0100, -0.1600,  0.9200],\n",
            "        [ 0.8800,  0.0500,  0.5600]])\n",
            "tensor([[-0.6800,  1.1100],\n",
            "        [ 0.2900,  0.7700]])\n",
            "batche:\n",
            "tensor([[ 0.6700,  1.9300, -0.3400],\n",
            "        [ 0.5200, -1.3700,  0.1100]])\n",
            "tensor([[-0.1700,  0.4300],\n",
            "        [ 0.1500, -1.0200]])\n"
          ]
        }
      ]
    },
    {
      "cell_type": "markdown",
      "source": [
        "# nn.Linear\n",
        "Instead of manually initialing weights , we can use nn.linear class from PyTorch to define the model"
      ],
      "metadata": {
        "id": "iBa-9ZcIF3Rf"
      }
    },
    {
      "cell_type": "code",
      "source": [
        "import torch.nn as nn\n",
        "model = nn.Linear(3,2) #In this we are nmentioning there  are 3 inputs to the modela nd 2 outputs received from the model\n",
        "print(model.weight)\n",
        "print(model.bias)"
      ],
      "metadata": {
        "colab": {
          "base_uri": "https://localhost:8080/"
        },
        "id": "E-AtIAB7G_u_",
        "outputId": "f11b1ac2-4569-4ec0-b6f1-0302cbd8ae99"
      },
      "execution_count": 6,
      "outputs": [
        {
          "output_type": "stream",
          "name": "stdout",
          "text": [
            "Parameter containing:\n",
            "tensor([[ 0.0876, -0.1057, -0.0228],\n",
            "        [-0.4306, -0.1434, -0.3994]], requires_grad=True)\n",
            "Parameter containing:\n",
            "tensor([ 0.0786, -0.3066], requires_grad=True)\n"
          ]
        }
      ]
    },
    {
      "cell_type": "markdown",
      "source": [
        "# .parameters()\n",
        "this function returns list of Weights and Biase MAtrices present in the model\n",
        "\n",
        "For this project we willl have only One Weight and Bias Matrix"
      ],
      "metadata": {
        "id": "YkE8dsWIHpMv"
      }
    },
    {
      "cell_type": "code",
      "source": [
        "list(model.parameters())"
      ],
      "metadata": {
        "colab": {
          "base_uri": "https://localhost:8080/"
        },
        "id": "pisxF6H7H1iN",
        "outputId": "edef6da7-5e2d-4f59-d27e-cd2697607055"
      },
      "execution_count": 7,
      "outputs": [
        {
          "output_type": "execute_result",
          "data": {
            "text/plain": [
              "[Parameter containing:\n",
              " tensor([[ 0.0876, -0.1057, -0.0228],\n",
              "         [-0.4306, -0.1434, -0.3994]], requires_grad=True),\n",
              " Parameter containing:\n",
              " tensor([ 0.0786, -0.3066], requires_grad=True)]"
            ]
          },
          "metadata": {},
          "execution_count": 7
        }
      ]
    },
    {
      "cell_type": "code",
      "source": [
        "initial_predicton = model(input)\n",
        "print(initial_predicton)"
      ],
      "metadata": {
        "colab": {
          "base_uri": "https://localhost:8080/"
        },
        "id": "UBD-XTOrJvHo",
        "outputId": "27a4bdfd-cfbe-453e-c163-2b3a9c7f5499"
      },
      "execution_count": 8,
      "outputs": [
        {
          "output_type": "stream",
          "name": "stdout",
          "text": [
            "tensor([[ 0.2664, -0.3780],\n",
            "        [ 0.1039, -0.7804],\n",
            "        [-0.0520, -0.2602],\n",
            "        [ 0.1461, -0.1927],\n",
            "        [-0.0589, -0.7360],\n",
            "        [ 0.0034, -0.1912],\n",
            "        [ 0.1377, -0.9163],\n",
            "        [-0.0086,  0.2419],\n",
            "        [ 0.1631, -1.0859],\n",
            "        [ 0.0515, -0.3181]], grad_fn=<AddmmBackward0>)\n"
          ]
        }
      ]
    },
    {
      "cell_type": "markdown",
      "source": [
        "# nn.functional module\n",
        "\n",
        "This module has many Loss functions and other useful utilities\n"
      ],
      "metadata": {
        "id": "zOSGtMlKKK93"
      }
    },
    {
      "cell_type": "code",
      "source": [
        "import torch.nn.functional as F\n",
        "\n",
        "mse = F.mse_loss\n",
        "\n",
        "loss = mse(initial_predicton,target)\n",
        "print(loss)"
      ],
      "metadata": {
        "colab": {
          "base_uri": "https://localhost:8080/"
        },
        "id": "MBdE6knMKGBW",
        "outputId": "ae80f03f-e817-473d-f850-57a0bb147897"
      },
      "execution_count": 9,
      "outputs": [
        {
          "output_type": "stream",
          "name": "stdout",
          "text": [
            "tensor(0.8605, grad_fn=<MseLossBackward0>)\n"
          ]
        }
      ]
    },
    {
      "cell_type": "code",
      "source": [],
      "metadata": {
        "colab": {
          "base_uri": "https://localhost:8080/"
        },
        "id": "NFQOcwg8MLL4",
        "outputId": "93f14ff1-2fa8-4d9b-9dfe-643522f9457d"
      },
      "execution_count": 25,
      "outputs": [
        {
          "output_type": "stream",
          "name": "stdout",
          "text": [
            "Object `torch.optim.SGD()` not found.\n"
          ]
        }
      ]
    },
    {
      "cell_type": "markdown",
      "source": [
        "# Optimizers:\n",
        "instead of we updating the weight smanually, this takes care of the weight updation!\n",
        "SGD: Stochastic Gradient Descent (samples are taken as batches instead of oen single group)\n",
        "\n",
        "##NOTE:\n",
        "model.parameters() is sent as arguement, so that the optimizer knows about the matrices which should be modified during the update steps.\n",
        "\n",
        "learning rate is also inputted to control the rate in which model learns\n",
        "\n"
      ],
      "metadata": {
        "id": "fuUrhnzakFQh"
      }
    },
    {
      "cell_type": "code",
      "source": [],
      "metadata": {
        "id": "zl7Mkb2lkuPF"
      },
      "execution_count": null,
      "outputs": []
    },
    {
      "cell_type": "markdown",
      "source": [],
      "metadata": {
        "id": "qbmNo6c0kFHr"
      }
    },
    {
      "cell_type": "code",
      "source": [
        "optimizer = tr.optim.SGD(model.parameters() , lr=1e-5)"
      ],
      "metadata": {
        "id": "JV1zfOOvhL9X"
      },
      "execution_count": 10,
      "outputs": []
    },
    {
      "cell_type": "code",
      "source": [
        "def fit(num,model,loss_fn,optimizer):\n",
        "  for i in range(num):\n",
        "     for xb,yb in train_dl:\n",
        "      predictions = model(xb)\n",
        "      loss = loss_fn(predictions,yb)\n",
        "      loss.backward()\n",
        "      optimizer.step()\n",
        "      optimizer.zero_grad()\n",
        "\n",
        "  if (i+1) % 10 == 0:\n",
        "      print('Epoch [{}/{}], Loss: {:.4f}'.format(i+1, num, loss.item()))\n",
        "\n",
        "\n"
      ],
      "metadata": {
        "id": "rfF7NFCyiMXC"
      },
      "execution_count": 15,
      "outputs": []
    },
    {
      "cell_type": "code",
      "source": [
        "fit(20000,model,mse,optimizer)"
      ],
      "metadata": {
        "colab": {
          "base_uri": "https://localhost:8080/"
        },
        "id": "TSUljbs1jcix",
        "outputId": "ae61f338-95eb-4288-d3e2-3978c91c112e"
      },
      "execution_count": 21,
      "outputs": [
        {
          "output_type": "stream",
          "name": "stdout",
          "text": [
            "Epoch [20000/20000], Loss: 0.3901\n"
          ]
        }
      ]
    },
    {
      "cell_type": "code",
      "source": [
        "print(model(input))"
      ],
      "metadata": {
        "colab": {
          "base_uri": "https://localhost:8080/"
        },
        "id": "wAGPBRc-juAz",
        "outputId": "bebe0bdc-023b-4013-a0da-f8dddde821b2"
      },
      "execution_count": 20,
      "outputs": [
        {
          "output_type": "stream",
          "name": "stdout",
          "text": [
            "tensor([[ 0.2973, -0.3359],\n",
            "        [ 0.1732, -0.4237],\n",
            "        [-0.0148, -0.2090],\n",
            "        [ 0.2029, -0.1470],\n",
            "        [ 0.0224, -0.3430],\n",
            "        [ 0.0206, -0.2351],\n",
            "        [ 0.1543, -0.6472],\n",
            "        [ 0.1050,  0.2669],\n",
            "        [ 0.1582, -0.8019],\n",
            "        [ 0.1409, -0.1109]], grad_fn=<AddmmBackward0>)\n"
          ]
        }
      ]
    },
    {
      "cell_type": "code",
      "source": [
        "print(target)"
      ],
      "metadata": {
        "colab": {
          "base_uri": "https://localhost:8080/"
        },
        "id": "sfKhwaaXjyTD",
        "outputId": "adb592c5-405b-41d4-cb41-d37fe3e7dbc7"
      },
      "execution_count": 18,
      "outputs": [
        {
          "output_type": "stream",
          "name": "stdout",
          "text": [
            "tensor([[ 0.1500, -1.0200],\n",
            "        [ 0.8400,  0.3100],\n",
            "        [-0.5500,  0.6900],\n",
            "        [ 1.2100, -0.4800],\n",
            "        [-0.1700,  0.4300],\n",
            "        [ 0.6400, -1.1300],\n",
            "        [ 0.2900,  0.7700],\n",
            "        [ 0.9200, -0.3500],\n",
            "        [-0.6800,  1.1100],\n",
            "        [ 0.5600,  0.0800]])\n"
          ]
        }
      ]
    }
  ]
}